{
 "cells": [
  {
   "cell_type": "code",
   "execution_count": null,
   "metadata": {
    "collapsed": true
   },
   "outputs": [],
   "source": [
    "from riotwatcher import RiotWatcher\n",
    "from riotwatcher import LoLException, error_500\n",
    "import time\n",
    "import os\n",
    "import json\n",
    "w = RiotWatcher(<ENTER YOUR RIOT GAMES API KEY>,default_region='NA')"
   ]
  },
  {
   "cell_type": "code",
   "execution_count": null,
   "metadata": {
    "collapsed": true
   },
   "outputs": [],
   "source": [
    "# Check if game was already fetched\n",
    "def check_file_exists(path):\n",
    "    try:\n",
    "        text_file = open(path,'r')\n",
    "        # print 'Repeated Game'\n",
    "        text_file.close()\n",
    "        return False\n",
    "    except IOError:\n",
    "        return True "
   ]
  },
  {
   "cell_type": "code",
   "execution_count": null,
   "metadata": {
    "collapsed": false
   },
   "outputs": [],
   "source": [
    "# Search for ranked matches based on seed players\n",
    "def search_games(seed_players, checked_players):\n",
    "    fellow_players = []\n",
    "    for player in seed_players:\n",
    "        if player not in checked_players:\n",
    "            # Get recent games.\n",
    "            # print 'Checking Player %s' % str(player)\n",
    "            try:\n",
    "                time.sleep(1.2)\n",
    "                recent_games = w.get_recent_games(player)\n",
    "                for game in recent_games['games']:\n",
    "                    # Check if game is ranked\n",
    "                    if game['subType'] == 'RANKED_SOLO_5x5' or game['subType'] == 'RANKED_PREMADE_5x5':\n",
    "                        path = str(os.getcwd()) + \"/Games/\" + str(game['gameId']) + \".json\"\n",
    "                        # Check if game was saved before\n",
    "                        if check_file_exists(path):\n",
    "                            time.sleep(1.2)\n",
    "                            # Get game data and save json\n",
    "                            try:\n",
    "                                game_data = w.get_match(game['gameId'], include_timeline=True) \n",
    "                                with open(path, \"w\") as text_file:\n",
    "                                    json.dump(game_data,text_file)\n",
    "                                text_file.close() \n",
    "                            except LoLException as error:\n",
    "                                if error == error_500:\n",
    "                                    print 'Error 500'\n",
    "                    # Get fellow players\n",
    "                    try:\n",
    "                        for player in game['fellowPlayers']:\n",
    "                            fellow_players.append(player['summonerId'])\n",
    "                    except KeyError:\n",
    "                        print 'No fellow Players'\n",
    "            except LoLException as error:\n",
    "                if error == error_500:\n",
    "                    print 'Error 500'\n",
    "        else:\n",
    "            print 'Repeated Player'\n",
    "    return fellow_players"
   ]
  },
  {
   "cell_type": "code",
   "execution_count": null,
   "metadata": {
    "collapsed": false
   },
   "outputs": [],
   "source": [
    "seed_players = []\n",
    "searched_players = []\n",
    "seed_players.append(w.get_summoner(name='Deft Pawn')['id'])\n",
    "seed_players.append(w.get_summoner(name='C9 Sneaky')['id'])\n",
    "seed_players.append(w.get_summoner(name='Soerenbjerg')['id'])\n",
    "seed_players.append(w.get_summoner(name='TSM SlGHTSTONE')['id'])\n",
    "seed_players.append(w.get_summoner(name='C9 Lemon')['id'])\n",
    "time.sleep(12)\n",
    "fellow_players = search_games(seed_players, searched_players)\n",
    "searched_players = searched_players + seed_players\n",
    "fellow_players2 = search_games(fellow_players,searched_players)\n",
    "searched_players = searched_players + fellow_players\n",
    "fellow_players3 = search_games(fellow_players2,searched_players)\n",
    "searched_players = searched_players + fellow_players2\n",
    "fellow_players4 = search_games(fellow_players3,searched_players)\n",
    "searched_players = searched_players + fellow_players3"
   ]
  }
 ],
 "metadata": {
  "kernelspec": {
   "display_name": "Python 2",
   "language": "python",
   "name": "python2"
  },
  "language_info": {
   "codemirror_mode": {
    "name": "ipython",
    "version": 2
   },
   "file_extension": ".py",
   "mimetype": "text/x-python",
   "name": "python",
   "nbconvert_exporter": "python",
   "pygments_lexer": "ipython2",
   "version": "2.7.12"
  }
 },
 "nbformat": 4,
 "nbformat_minor": 0
}
